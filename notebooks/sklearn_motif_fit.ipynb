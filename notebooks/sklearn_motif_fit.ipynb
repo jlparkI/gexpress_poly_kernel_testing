{
 "cells": [
  {
   "cell_type": "markdown",
   "id": "d3700660",
   "metadata": {},
   "source": [
    "For some purposes it is preferable to use as few motifs as possible to make\n",
    "predictions. This notebook uses sparse linear regression to select a subset\n",
    "of the motifs for each training-validation split used when fitting the\n",
    "polynomial models. The identities of the columns flagged as significant\n",
    "by this process are saved to a config file so that the polynomial fitting\n",
    "code can retrieve these later. In this way, the performance of a polynomial\n",
    "fitted using a subset of the available motifs can be compared to performance\n",
    "with the full set."
   ]
  },
  {
   "cell_type": "code",
   "execution_count": 1,
   "id": "594cb9e7",
   "metadata": {},
   "outputs": [],
   "source": [
    "import os\n",
    "import numpy as np\n",
    "import pandas as pd\n",
    "import shutil\n",
    "import matplotlib.pyplot as plt\n",
    "from sklearn.linear_model import Lasso\n",
    "from sklearn.linear_model import LassoLarsIC\n",
    "from sklearn.pipeline import make_pipeline\n",
    "from sklearn.preprocessing import StandardScaler"
   ]
  },
  {
   "cell_type": "code",
   "execution_count": 2,
   "id": "6155f739",
   "metadata": {},
   "outputs": [],
   "source": [
    "if os.getcwd().endswith(\"notebooks\"):\n",
    "    os.chdir(\"..\")\n",
    "    home_dir = os.getcwd()\n",
    "\n",
    "from gexpress_testing.utilities.utilities import filter_data, cleanup_storage\n",
    "from gexpress_testing.utilities.utilities import get_tt_split\n",
    "\n",
    "#Location of the ids of cell lines which are nonredundant -- the only ones we should use\n",
    "nonred_id_path = os.path.join(home_dir, \"config_files\", \"EpiMapID_Name_nonDup.txt\")\n",
    "#Location where the columns identified as important will be saved. If anything is\n",
    "#already present there an error will be raised.\n",
    "output_path = os.path.join(home_dir, \"config_files\", \"lasso_flagged_motifs.py\")\n",
    "if os.path.exists(output_path):\n",
    "    raise RuntimeError(\"Output config file already exists; do not overwrite.\")\n",
    "\n",
    "os.mkdir(\"/scratch/temp\")"
   ]
  },
  {
   "cell_type": "code",
   "execution_count": 3,
   "id": "fc451711",
   "metadata": {},
   "outputs": [],
   "source": [
    "with open(nonred_id_path, \"r\", encoding='utf-8') as fhandle:\n",
    "    nonredundant_ids = [l.split()[0] for l in fhandle]"
   ]
  },
  {
   "cell_type": "code",
   "execution_count": 4,
   "id": "7a95106b",
   "metadata": {},
   "outputs": [
    {
     "name": "stdout",
     "output_type": "stream",
     "text": [
      "No valid enhancer path supplied. Ignoring enhancers. Promoters only will be used.\n",
      "Now retrieving and sorting files...\n",
      "Total datapoints: 2129180\n"
     ]
    }
   ],
   "source": [
    "#Unfortunately the file paths here are hard-coded. TODO: fix this later\n",
    "pfiles, xfiles, yfiles = filter_data(\"/stg3/data1/sam/enhancer_prediction/fimo_scan/motif_count_matrices_pro_3\",\n",
    "                                \"/stg3/data1/sam/enhancer_prediction/training_y\",\n",
    "                                     None, nonredundant_ids, \"/scratch/temp\")"
   ]
  },
  {
   "cell_type": "code",
   "execution_count": 5,
   "id": "f03df1c2",
   "metadata": {},
   "outputs": [
    {
     "name": "stdout",
     "output_type": "stream",
     "text": [
      "The training nonred ids are: ['BSS00004', 'BSS00007', 'BSS00043', 'BSS00045', 'BSS00062', 'BSS00074', 'BSS00079', 'BSS00088', 'BSS00089', 'BSS00096', 'BSS00102', 'BSS00112', 'BSS00113', 'BSS00121', 'BSS00145', 'BSS00160', 'BSS00171', 'BSS00178', 'BSS00189', 'BSS00197', 'BSS00211', 'BSS00214', 'BSS00232', 'BSS00246', 'BSS00281', 'BSS00287', 'BSS00296', 'BSS00310', 'BSS00316', 'BSS00332', 'BSS00352', 'BSS00353', 'BSS00372', 'BSS00376', 'BSS00381', 'BSS00385', 'BSS00439', 'BSS00476', 'BSS00478', 'BSS00481']\n",
      "The valid nonred ids are: ['BSS00483', 'BSS00505', 'BSS00529', 'BSS00543', 'BSS00556', 'BSS00558', 'BSS00700', 'BSS00708', 'BSS00709', 'BSS00717', 'BSS00720', 'BSS00760', 'BSS00762', 'BSS01065', 'BSS01068', 'BSS01084', 'BSS01110', 'BSS01126', 'BSS01136', 'BSS01155', 'BSS01181', 'BSS01190', 'BSS01208', 'BSS01209', 'BSS01226', 'BSS01261', 'BSS01263', 'BSS01264', 'BSS01267', 'BSS01289', 'BSS01338', 'BSS01344', 'BSS01355', 'BSS01360', 'BSS01366', 'BSS01377', 'BSS01391', 'BSS01393', 'BSS01399', 'BSS01405', 'BSS01406', 'BSS01414', 'BSS01419', 'BSS01426', 'BSS01438', 'BSS01446', 'BSS01456', 'BSS01460', 'BSS01483', 'BSS01506', 'BSS01536', 'BSS01542', 'BSS01549', 'BSS01550', 'BSS01551', 'BSS01558', 'BSS01562', 'BSS01573', 'BSS01583', 'BSS01588', 'BSS01612', 'BSS01614', 'BSS01625', 'BSS01636', 'BSS01689', 'BSS01715', 'BSS01814', 'BSS01821', 'BSS01831', 'BSS01840', 'BSS01848', 'BSS01857', 'BSS01866', 'BSS01869', 'BSS01884', 'BSS01887']\n",
      "\n",
      "The training nonred ids are: ['BSS00211', 'BSS00214', 'BSS00232', 'BSS00246', 'BSS00281', 'BSS00287', 'BSS00296', 'BSS00310', 'BSS00316', 'BSS00332', 'BSS00352', 'BSS00353', 'BSS00372', 'BSS00376', 'BSS00381', 'BSS00385', 'BSS00439', 'BSS00476', 'BSS00478', 'BSS00481', 'BSS00483', 'BSS00505', 'BSS00529', 'BSS00543', 'BSS00556', 'BSS00558', 'BSS00700', 'BSS00708', 'BSS00709', 'BSS00717', 'BSS00720', 'BSS00760', 'BSS00762', 'BSS01065', 'BSS01068', 'BSS01084', 'BSS01110', 'BSS01126', 'BSS01136', 'BSS01155']\n",
      "The valid nonred ids are: ['BSS00004', 'BSS00007', 'BSS00043', 'BSS00045', 'BSS00062', 'BSS00074', 'BSS00079', 'BSS00088', 'BSS00089', 'BSS00096', 'BSS00102', 'BSS00112', 'BSS00113', 'BSS00121', 'BSS00145', 'BSS00160', 'BSS00171', 'BSS00178', 'BSS00189', 'BSS00197', 'BSS01181', 'BSS01190', 'BSS01208', 'BSS01209', 'BSS01226', 'BSS01261', 'BSS01263', 'BSS01264', 'BSS01267', 'BSS01289', 'BSS01338', 'BSS01344', 'BSS01355', 'BSS01360', 'BSS01366', 'BSS01377', 'BSS01391', 'BSS01393', 'BSS01399', 'BSS01405', 'BSS01406', 'BSS01414', 'BSS01419', 'BSS01426', 'BSS01438', 'BSS01446', 'BSS01456', 'BSS01460', 'BSS01483', 'BSS01506', 'BSS01536', 'BSS01542', 'BSS01549', 'BSS01550', 'BSS01551', 'BSS01558', 'BSS01562', 'BSS01573', 'BSS01583', 'BSS01588', 'BSS01612', 'BSS01614', 'BSS01625', 'BSS01636', 'BSS01689', 'BSS01715', 'BSS01814', 'BSS01821', 'BSS01831', 'BSS01840', 'BSS01848', 'BSS01857', 'BSS01866', 'BSS01869', 'BSS01884', 'BSS01887']\n",
      "\n",
      "The training nonred ids are: ['BSS00483', 'BSS00505', 'BSS00529', 'BSS00543', 'BSS00556', 'BSS00558', 'BSS00700', 'BSS00708', 'BSS00709', 'BSS00717', 'BSS00720', 'BSS00760', 'BSS00762', 'BSS01065', 'BSS01068', 'BSS01084', 'BSS01110', 'BSS01126', 'BSS01136', 'BSS01155', 'BSS01181', 'BSS01190', 'BSS01208', 'BSS01209', 'BSS01226', 'BSS01261', 'BSS01263', 'BSS01264', 'BSS01267', 'BSS01289', 'BSS01338', 'BSS01344', 'BSS01355', 'BSS01360', 'BSS01366', 'BSS01377', 'BSS01391', 'BSS01393', 'BSS01399', 'BSS01405']\n",
      "The valid nonred ids are: ['BSS00004', 'BSS00007', 'BSS00043', 'BSS00045', 'BSS00062', 'BSS00074', 'BSS00079', 'BSS00088', 'BSS00089', 'BSS00096', 'BSS00102', 'BSS00112', 'BSS00113', 'BSS00121', 'BSS00145', 'BSS00160', 'BSS00171', 'BSS00178', 'BSS00189', 'BSS00197', 'BSS00211', 'BSS00214', 'BSS00232', 'BSS00246', 'BSS00281', 'BSS00287', 'BSS00296', 'BSS00310', 'BSS00316', 'BSS00332', 'BSS00352', 'BSS00353', 'BSS00372', 'BSS00376', 'BSS00381', 'BSS00385', 'BSS00439', 'BSS00476', 'BSS00478', 'BSS00481', 'BSS01406', 'BSS01414', 'BSS01419', 'BSS01426', 'BSS01438', 'BSS01446', 'BSS01456', 'BSS01460', 'BSS01483', 'BSS01506', 'BSS01536', 'BSS01542', 'BSS01549', 'BSS01550', 'BSS01551', 'BSS01558', 'BSS01562', 'BSS01573', 'BSS01583', 'BSS01588', 'BSS01612', 'BSS01614', 'BSS01625', 'BSS01636', 'BSS01689', 'BSS01715', 'BSS01814', 'BSS01821', 'BSS01831', 'BSS01840', 'BSS01848', 'BSS01857', 'BSS01866', 'BSS01869', 'BSS01884', 'BSS01887']\n",
      "\n",
      "The training nonred ids are: ['BSS01181', 'BSS01190', 'BSS01208', 'BSS01209', 'BSS01226', 'BSS01261', 'BSS01263', 'BSS01264', 'BSS01267', 'BSS01289', 'BSS01338', 'BSS01344', 'BSS01355', 'BSS01360', 'BSS01366', 'BSS01377', 'BSS01391', 'BSS01393', 'BSS01399', 'BSS01405', 'BSS01406', 'BSS01414', 'BSS01419', 'BSS01426', 'BSS01438', 'BSS01446', 'BSS01456', 'BSS01460', 'BSS01483', 'BSS01506', 'BSS01536', 'BSS01542', 'BSS01549', 'BSS01550', 'BSS01551', 'BSS01558', 'BSS01562', 'BSS01573', 'BSS01583', 'BSS01588']\n",
      "The valid nonred ids are: ['BSS00004', 'BSS00007', 'BSS00043', 'BSS00045', 'BSS00062', 'BSS00074', 'BSS00079', 'BSS00088', 'BSS00089', 'BSS00096', 'BSS00102', 'BSS00112', 'BSS00113', 'BSS00121', 'BSS00145', 'BSS00160', 'BSS00171', 'BSS00178', 'BSS00189', 'BSS00197', 'BSS00211', 'BSS00214', 'BSS00232', 'BSS00246', 'BSS00281', 'BSS00287', 'BSS00296', 'BSS00310', 'BSS00316', 'BSS00332', 'BSS00352', 'BSS00353', 'BSS00372', 'BSS00376', 'BSS00381', 'BSS00385', 'BSS00439', 'BSS00476', 'BSS00478', 'BSS00481', 'BSS00483', 'BSS00505', 'BSS00529', 'BSS00543', 'BSS00556', 'BSS00558', 'BSS00700', 'BSS00708', 'BSS00709', 'BSS00717', 'BSS00720', 'BSS00760', 'BSS00762', 'BSS01065', 'BSS01068', 'BSS01084', 'BSS01110', 'BSS01126', 'BSS01136', 'BSS01155', 'BSS01612', 'BSS01614', 'BSS01625', 'BSS01636', 'BSS01689', 'BSS01715', 'BSS01814', 'BSS01821', 'BSS01831', 'BSS01840', 'BSS01848', 'BSS01857', 'BSS01866', 'BSS01869', 'BSS01884', 'BSS01887']\n",
      "\n",
      "The training nonred ids are: ['BSS01391', 'BSS01393', 'BSS01399', 'BSS01405', 'BSS01406', 'BSS01414', 'BSS01419', 'BSS01426', 'BSS01438', 'BSS01446', 'BSS01456', 'BSS01460', 'BSS01483', 'BSS01506', 'BSS01536', 'BSS01542', 'BSS01549', 'BSS01550', 'BSS01551', 'BSS01558', 'BSS01562', 'BSS01573', 'BSS01583', 'BSS01588', 'BSS01612', 'BSS01614', 'BSS01625', 'BSS01636', 'BSS01689', 'BSS01715', 'BSS01814', 'BSS01821', 'BSS01831', 'BSS01840', 'BSS01848', 'BSS01857', 'BSS01866', 'BSS01869', 'BSS01884', 'BSS01887']\n",
      "The valid nonred ids are: ['BSS00004', 'BSS00007', 'BSS00043', 'BSS00045', 'BSS00062', 'BSS00074', 'BSS00079', 'BSS00088', 'BSS00089', 'BSS00096', 'BSS00102', 'BSS00112', 'BSS00113', 'BSS00121', 'BSS00145', 'BSS00160', 'BSS00171', 'BSS00178', 'BSS00189', 'BSS00197', 'BSS00211', 'BSS00214', 'BSS00232', 'BSS00246', 'BSS00281', 'BSS00287', 'BSS00296', 'BSS00310', 'BSS00316', 'BSS00332', 'BSS00352', 'BSS00353', 'BSS00372', 'BSS00376', 'BSS00381', 'BSS00385', 'BSS00439', 'BSS00476', 'BSS00478', 'BSS00481', 'BSS00483', 'BSS00505', 'BSS00529', 'BSS00543', 'BSS00556', 'BSS00558', 'BSS00700', 'BSS00708', 'BSS00709', 'BSS00717', 'BSS00720', 'BSS00760', 'BSS00762', 'BSS01065', 'BSS01068', 'BSS01084', 'BSS01110', 'BSS01126', 'BSS01136', 'BSS01155', 'BSS01181', 'BSS01190', 'BSS01208', 'BSS01209', 'BSS01226', 'BSS01261', 'BSS01263', 'BSS01264', 'BSS01267', 'BSS01289', 'BSS01338', 'BSS01344', 'BSS01355', 'BSS01360', 'BSS01366', 'BSS01377']\n",
      "\n"
     ]
    }
   ],
   "source": [
    "tt_splits = [get_tt_split(xfiles, pfiles, yfiles, nonredundant_ids,\n",
    "                offset = offset) for offset in [0,20,40,60,76]]"
   ]
  },
  {
   "cell_type": "code",
   "execution_count": 6,
   "id": "9ebe0814",
   "metadata": {},
   "outputs": [
    {
     "name": "stdout",
     "output_type": "stream",
     "text": [
      "Split 0 complete\n",
      "Split 1 complete\n",
      "Split 2 complete\n",
      "Split 3 complete\n",
      "Split 4 complete\n"
     ]
    }
   ],
   "source": [
    "#Fit a \"sparse\" Lasso model to each training split. Find\n",
    "#the coefficients which are non-negligible -- these are\n",
    "#features that should be retained -- and save a list of\n",
    "#these for each split to a config file. The alpha-value\n",
    "#was determined previously using AIC / BIC with LARS.\n",
    "\n",
    "significant_columns = []\n",
    "\n",
    "for i, tt_split in enumerate(tt_splits):\n",
    "    trainx_files, trainy_files = [], []\n",
    "\n",
    "    for _, trainfiles in tt_split['train_ids'].items():\n",
    "        trainx_files += trainfiles['p']\n",
    "        trainy_files += trainfiles[\"y\"]\n",
    "\n",
    "    trainx = np.vstack([np.load(x) for x in trainx_files])\n",
    "    trainy = np.concatenate([np.load(y) for y in trainy_files])\n",
    "    lasso_model = Lasso(alpha=0.005).fit(trainx, trainy)\n",
    "\n",
    "    nonnegligible_coefs = np.where(np.abs(lasso_model.coef_.flatten()) > 1e-12)[0]\n",
    "    significant_columns.append(nonnegligible_coefs)\n",
    "    print(f\"Split {i} complete\", flush=True)"
   ]
  },
  {
   "cell_type": "code",
   "execution_count": 7,
   "id": "58290d05",
   "metadata": {},
   "outputs": [],
   "source": [
    "significant_columns = [s.tolist() for s in significant_columns]"
   ]
  },
  {
   "cell_type": "code",
   "execution_count": 8,
   "id": "a511966e",
   "metadata": {},
   "outputs": [],
   "source": [
    "with open(output_path, \"w+\") as fhandle:\n",
    "    _ = fhandle.write('\"\"\"This config file stores a list of positions flagged as\\n'\n",
    "                     'significant for each split by fitting a sparse Lasso model. It is auto-generated\\n'\n",
    "                      'so the formatting is a little clunky.\"\"\"\\n\\n')\n",
    "    _ = fhandle.write(f\"KEY_POSITIONS_BY_SPLIT = {significant_columns}\")"
   ]
  },
  {
   "cell_type": "code",
   "execution_count": 9,
   "id": "a618630e",
   "metadata": {},
   "outputs": [],
   "source": [
    "#Don't forget to remove the temporary files created in scratch!!\n",
    "shutil.rmtree(\"/scratch/temp\")"
   ]
  },
  {
   "cell_type": "code",
   "execution_count": null,
   "id": "51695f92",
   "metadata": {},
   "outputs": [],
   "source": []
  }
 ],
 "metadata": {
  "kernelspec": {
   "display_name": "Python 3 (ipykernel)",
   "language": "python",
   "name": "python3"
  },
  "language_info": {
   "codemirror_mode": {
    "name": "ipython",
    "version": 3
   },
   "file_extension": ".py",
   "mimetype": "text/x-python",
   "name": "python",
   "nbconvert_exporter": "python",
   "pygments_lexer": "ipython3",
   "version": "3.9.0"
  }
 },
 "nbformat": 4,
 "nbformat_minor": 5
}
