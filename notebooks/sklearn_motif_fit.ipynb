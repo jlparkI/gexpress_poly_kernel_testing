{
 "cells": [
  {
   "cell_type": "code",
   "execution_count": 2,
   "id": "bf9290e4",
   "metadata": {},
   "outputs": [],
   "source": [
    "import os\n",
    "import numpy as np\n",
    "import pandas as pd\n",
    "import shutil\n",
    "if os.getcwd().endswith(\"notebooks\"):\n",
    "    os.chdir(\"..\")\n",
    "    home_dir = os.getcwd()\n",
    "\n",
    "from gexpress_testing.utilities.utilities import filter_data, cleanup_storage, get_final_data_list\n",
    "from gexpress_testing.utilities.utilities import get_tt_split\n",
    "\n",
    "nonred_id_path = os.path.join(home_dir, \"..\", \"EpiMapID_Name_nonDup.txt\")\n",
    "\n",
    "os.mkdir(\"/scratch/temp\")"
   ]
  },
  {
   "cell_type": "code",
   "execution_count": 3,
   "id": "fc451711",
   "metadata": {},
   "outputs": [],
   "source": [
    "with open(nonred_id_path, \"r\", encoding='utf-8') as fhandle:\n",
    "    nonredundant_ids = [l.split()[0] for l in fhandle]"
   ]
  },
  {
   "cell_type": "code",
   "execution_count": 4,
   "id": "7a95106b",
   "metadata": {},
   "outputs": [
    {
     "name": "stdout",
     "output_type": "stream",
     "text": [
      "Now retrieving and sorting files...\n",
      "Total datapoints: 2129180\n"
     ]
    }
   ],
   "source": [
    "#Unfortunately the file paths here are hard-coded. Find a better solution to this (config file perhaps)\n",
    "pfiles, yfiles = get_final_data_list(\"/stg3/data1/sam/enhancer_prediction/fimo_scan/motif_count_matrices_pro_3\",\n",
    "                                \"/stg3/data1/sam/enhancer_prediction/training_y\",\n",
    "                                     nonredundant_ids, \"/scratch/temp\")"
   ]
  },
  {
   "cell_type": "code",
   "execution_count": 5,
   "id": "f03df1c2",
   "metadata": {},
   "outputs": [
    {
     "name": "stdout",
     "output_type": "stream",
     "text": [
      "The training nonred ids are: ['BSS00004', 'BSS00007', 'BSS00043', 'BSS00045', 'BSS00062', 'BSS00074', 'BSS00079', 'BSS00088', 'BSS00089', 'BSS00096', 'BSS00102', 'BSS00112', 'BSS00113', 'BSS00121', 'BSS00145', 'BSS00160', 'BSS00171', 'BSS00178', 'BSS00189', 'BSS00197', 'BSS00211', 'BSS00214', 'BSS00232', 'BSS00246', 'BSS00281', 'BSS00287', 'BSS00296', 'BSS00310', 'BSS00316', 'BSS00332', 'BSS00352', 'BSS00353', 'BSS00372', 'BSS00376', 'BSS00381', 'BSS00385', 'BSS00439', 'BSS00476', 'BSS00478', 'BSS00481']\n"
     ]
    }
   ],
   "source": [
    "tt_split = get_tt_split([], pfiles, yfiles, nonredundant_ids)"
   ]
  },
  {
   "cell_type": "code",
   "execution_count": null,
   "id": "8e493470",
   "metadata": {},
   "outputs": [],
   "source": []
  },
  {
   "cell_type": "code",
   "execution_count": 8,
   "id": "9ebe0814",
   "metadata": {},
   "outputs": [],
   "source": [
    "trainx, trainy = [], []\n",
    "for idnum in tt_split[\"train_ids\"]:\n",
    "    trainx += tt_split[\"train_ids\"][idnum][\"p\"]\n",
    "    trainy += tt_split[\"train_ids\"][idnum][\"y\"]"
   ]
  },
  {
   "cell_type": "code",
   "execution_count": 9,
   "id": "c38ab9df",
   "metadata": {},
   "outputs": [],
   "source": [
    "trainx = np.vstack([np.load(x) for x in trainx])\n",
    "trainy = np.concatenate([np.load(y) for y in trainy])"
   ]
  },
  {
   "cell_type": "code",
   "execution_count": 10,
   "id": "e103e2ed",
   "metadata": {},
   "outputs": [],
   "source": [
    "from sklearn.linear_model import Lasso\n",
    "from sklearn.linear_model import LassoLarsIC\n",
    "from sklearn.pipeline import make_pipeline\n",
    "from sklearn.preprocessing import StandardScaler\n",
    "\n",
    "lasso_lars_ic = make_pipeline(StandardScaler(), LassoLarsIC(criterion=\"aic\")).fit(trainx, trainy)\n",
    "\n",
    "results = pd.DataFrame(\n",
    "    {\n",
    "        \"alphas\": lasso_lars_ic[-1].alphas_,\n",
    "        \"AIC criterion\": lasso_lars_ic[-1].criterion_,\n",
    "    }\n",
    ").set_index(\"alphas\")\n",
    "alpha_aic = lasso_lars_ic[-1].alpha_"
   ]
  },
  {
   "cell_type": "code",
   "execution_count": 28,
   "id": "aa3faa10",
   "metadata": {},
   "outputs": [],
   "source": [
    "def zou_et_al_criterion_rescaling(criterion, n_samples, noise_variance):\n",
    "    return criterion - n_samples * np.log(2 * np.pi * noise_variance) - n_samples"
   ]
  },
  {
   "cell_type": "code",
   "execution_count": 30,
   "id": "352d6780",
   "metadata": {},
   "outputs": [],
   "source": [
    "aic_criterion = zou_et_al_criterion_rescaling(\n",
    "    lasso_lars_ic[-1].criterion_,\n",
    "    trainx.shape[0],\n",
    "    lasso_lars_ic[-1].noise_variance_,\n",
    ")\n",
    "\n",
    "index_alpha_path_aic = np.flatnonzero(\n",
    "    lasso_lars_ic[-1].alphas_ == lasso_lars_ic[-1].alpha_\n",
    ")[0]"
   ]
  },
  {
   "cell_type": "code",
   "execution_count": 33,
   "id": "b4629432",
   "metadata": {},
   "outputs": [],
   "source": [
    "lasso_lars_ic.set_params(lassolarsic__criterion=\"bic\").fit(trainx, trainy)\n",
    "\n",
    "bic_criterion = zou_et_al_criterion_rescaling(\n",
    "    lasso_lars_ic[-1].criterion_,\n",
    "    trainx.shape[0],\n",
    "    lasso_lars_ic[-1].noise_variance_,\n",
    ")\n",
    "\n",
    "index_alpha_path_bic = np.flatnonzero(\n",
    "    lasso_lars_ic[-1].alphas_ == lasso_lars_ic[-1].alpha_\n",
    ")[0]"
   ]
  },
  {
   "cell_type": "code",
   "execution_count": null,
   "id": "5a65275d",
   "metadata": {},
   "outputs": [],
   "source": []
  },
  {
   "cell_type": "code",
   "execution_count": 11,
   "id": "be1d424f",
   "metadata": {},
   "outputs": [],
   "source": [
    "lasso_lars_ic.set_params(lassolarsic__criterion=\"bic\").fit(trainx, trainy)\n",
    "results[\"BIC criterion\"] = lasso_lars_ic[-1].criterion_\n",
    "alpha_bic = lasso_lars_ic[-1].alpha_"
   ]
  },
  {
   "cell_type": "code",
   "execution_count": 35,
   "id": "ee2394e3",
   "metadata": {},
   "outputs": [
    {
     "data": {
      "text/plain": [
       "[<matplotlib.lines.Line2D at 0x7f3f1f024c40>]"
      ]
     },
     "execution_count": 35,
     "metadata": {},
     "output_type": "execute_result"
    },
    {
     "data": {
      "image/png": "[encoded data removed]",
      "text/plain": [
       "<Figure size 640x480 with 1 Axes>"
      ]
     },
     "metadata": {},
     "output_type": "display_data"
    }
   ],
   "source": [
    "plt.plot(aic_criterion, color=\"tab:blue\", marker=\"o\", label=\"AIC criterion\")\n",
    "plt.plot(bic_criterion, color=\"tab:orange\", marker=\"o\", label=\"BIC criterion\")"
   ]
  },
  {
   "cell_type": "code",
   "execution_count": 38,
   "id": "b53d27dd",
   "metadata": {},
   "outputs": [
    {
     "data": {
      "text/plain": [
       "(2900000.0, 3100000.0)"
      ]
     },
     "execution_count": 38,
     "metadata": {},
     "output_type": "execute_result"
    },
    {
     "data": {
      "image/png": "[encoded data removed]",
      "text/plain": [
       "<Figure size 640x480 with 1 Axes>"
      ]
     },
     "metadata": {},
     "output_type": "display_data"
    }
   ],
   "source": [
    "import matplotlib.pyplot as plt\n",
    "plt.scatter(results.index, results[\"BIC criterion\"].values, color=\"blue\", label=\"BIC\")\n",
    "plt.scatter(results.index, results[\"AIC criterion\"].values, color=\"red\", label=\"AIC\")\n",
    "plt.xscale(\"log\")\n",
    "plt.legend()\n",
    "plt.ylim(2.9e6, 3.1e6)"
   ]
  },
  {
   "cell_type": "code",
   "execution_count": 39,
   "id": "06502372",
   "metadata": {},
   "outputs": [],
   "source": [
    "mod = Lasso(alpha=0.005).fit(trainx, trainy)"
   ]
  },
  {
   "cell_type": "code",
   "execution_count": 40,
   "id": "fcbfc2d4",
   "metadata": {},
   "outputs": [
    {
     "data": {
      "text/plain": [
       "PearsonRResult(statistic=0.5715374543913303, pvalue=0.0)"
      ]
     },
     "execution_count": 40,
     "metadata": {},
     "output_type": "execute_result"
    }
   ],
   "source": [
    "from scipy.stats import pearsonr\n",
    "pearsonr(trainy, mod.predict(trainx))"
   ]
  },
  {
   "cell_type": "code",
   "execution_count": 41,
   "id": "a511966e",
   "metadata": {},
   "outputs": [
    {
     "data": {
      "text/plain": [
       "370"
      ]
     },
     "execution_count": 41,
     "metadata": {},
     "output_type": "execute_result"
    }
   ],
   "source": [
    "(np.abs(mod.coef_) > 1e-12).sum()"
   ]
  },
  {
   "cell_type": "code",
   "execution_count": 42,
   "id": "7780fe1c",
   "metadata": {},
   "outputs": [
    {
     "ename": "FileNotFoundError",
     "evalue": "[Errno 2] No such file or directory: '/scratch/temp/BSS00483_0_promoters.npy'",
     "output_type": "error",
     "traceback": [
      "\u001b[0;31m---------------------------------------------------------------------------\u001b[0m",
      "\u001b[0;31mFileNotFoundError\u001b[0m                         Traceback (most recent call last)",
      "Cell \u001b[0;32mIn[42], line 4\u001b[0m\n\u001b[1;32m      2\u001b[0m \u001b[38;5;28;01mfor\u001b[39;00m idnum \u001b[38;5;129;01min\u001b[39;00m tt_split[\u001b[38;5;124m\"\u001b[39m\u001b[38;5;124mvalid_ids\u001b[39m\u001b[38;5;124m\"\u001b[39m]:\n\u001b[1;32m      3\u001b[0m     \u001b[38;5;28;01mfor\u001b[39;00m f \u001b[38;5;129;01min\u001b[39;00m tt_split[\u001b[38;5;124m\"\u001b[39m\u001b[38;5;124mvalid_ids\u001b[39m\u001b[38;5;124m\"\u001b[39m][idnum][\u001b[38;5;124m\"\u001b[39m\u001b[38;5;124mp\u001b[39m\u001b[38;5;124m\"\u001b[39m]:\n\u001b[0;32m----> 4\u001b[0m         validpreds\u001b[38;5;241m.\u001b[39mappend(mod\u001b[38;5;241m.\u001b[39mpredict(\u001b[43mnp\u001b[49m\u001b[38;5;241;43m.\u001b[39;49m\u001b[43mload\u001b[49m\u001b[43m(\u001b[49m\u001b[43mf\u001b[49m\u001b[43m)\u001b[49m))\n\u001b[1;32m      5\u001b[0m     \u001b[38;5;28;01mfor\u001b[39;00m f \u001b[38;5;129;01min\u001b[39;00m tt_split[\u001b[38;5;124m\"\u001b[39m\u001b[38;5;124mvalid_ids\u001b[39m\u001b[38;5;124m\"\u001b[39m][idnum][\u001b[38;5;124m\"\u001b[39m\u001b[38;5;124my\u001b[39m\u001b[38;5;124m\"\u001b[39m]:\n\u001b[1;32m      6\u001b[0m         validy\u001b[38;5;241m.\u001b[39mappend(np\u001b[38;5;241m.\u001b[39mload(f))\n",
      "File \u001b[0;32m~/miniconda/envs/xgpr/lib/python3.9/site-packages/numpy/lib/npyio.py:405\u001b[0m, in \u001b[0;36mload\u001b[0;34m(file, mmap_mode, allow_pickle, fix_imports, encoding, max_header_size)\u001b[0m\n\u001b[1;32m    403\u001b[0m     own_fid \u001b[38;5;241m=\u001b[39m \u001b[38;5;28;01mFalse\u001b[39;00m\n\u001b[1;32m    404\u001b[0m \u001b[38;5;28;01melse\u001b[39;00m:\n\u001b[0;32m--> 405\u001b[0m     fid \u001b[38;5;241m=\u001b[39m stack\u001b[38;5;241m.\u001b[39menter_context(\u001b[38;5;28;43mopen\u001b[39;49m\u001b[43m(\u001b[49m\u001b[43mos_fspath\u001b[49m\u001b[43m(\u001b[49m\u001b[43mfile\u001b[49m\u001b[43m)\u001b[49m\u001b[43m,\u001b[49m\u001b[43m \u001b[49m\u001b[38;5;124;43m\"\u001b[39;49m\u001b[38;5;124;43mrb\u001b[39;49m\u001b[38;5;124;43m\"\u001b[39;49m\u001b[43m)\u001b[49m)\n\u001b[1;32m    406\u001b[0m     own_fid \u001b[38;5;241m=\u001b[39m \u001b[38;5;28;01mTrue\u001b[39;00m\n\u001b[1;32m    408\u001b[0m \u001b[38;5;66;03m# Code to distinguish from NumPy binary files and pickles.\u001b[39;00m\n",
      "\u001b[0;31mFileNotFoundError\u001b[0m: [Errno 2] No such file or directory: '/scratch/temp/BSS00483_0_promoters.npy'"
     ]
    }
   ],
   "source": [
    "validpreds, validy = [], []\n",
    "for idnum in tt_split[\"valid_ids\"]:\n",
    "    for f in tt_split[\"valid_ids\"][idnum][\"p\"]:\n",
    "        validpreds.append(mod.predict(np.load(f)))\n",
    "    for f in tt_split[\"valid_ids\"][idnum][\"y\"]:\n",
    "        validy.append(np.load(f))\n",
    "\n",
    "validpreds = np.concatenate(validpreds)\n",
    "validy = np.concatenate(validy)"
   ]
  },
  {
   "cell_type": "code",
   "execution_count": null,
   "id": "61903166",
   "metadata": {},
   "outputs": [],
   "source": []
  },
  {
   "cell_type": "code",
   "execution_count": 43,
   "id": "a618630e",
   "metadata": {},
   "outputs": [
    {
     "ename": "FileNotFoundError",
     "evalue": "[Errno 2] No such file or directory: '/scratch/temp'",
     "output_type": "error",
     "traceback": [
      "\u001b[0;31m---------------------------------------------------------------------------\u001b[0m",
      "\u001b[0;31mFileNotFoundError\u001b[0m                         Traceback (most recent call last)",
      "Cell \u001b[0;32mIn[43], line 2\u001b[0m\n\u001b[1;32m      1\u001b[0m \u001b[38;5;66;03m#Don't forget to remove the temporary files created in scratch!!\u001b[39;00m\n\u001b[0;32m----> 2\u001b[0m \u001b[43mshutil\u001b[49m\u001b[38;5;241;43m.\u001b[39;49m\u001b[43mrmtree\u001b[49m\u001b[43m(\u001b[49m\u001b[38;5;124;43m\"\u001b[39;49m\u001b[38;5;124;43m/scratch/temp\u001b[39;49m\u001b[38;5;124;43m\"\u001b[39;49m\u001b[43m)\u001b[49m\n",
      "File \u001b[0;32m~/miniconda/envs/xgpr/lib/python3.9/shutil.py:706\u001b[0m, in \u001b[0;36mrmtree\u001b[0;34m(path, ignore_errors, onerror)\u001b[0m\n\u001b[1;32m    704\u001b[0m     orig_st \u001b[38;5;241m=\u001b[39m os\u001b[38;5;241m.\u001b[39mlstat(path)\n\u001b[1;32m    705\u001b[0m \u001b[38;5;28;01mexcept\u001b[39;00m \u001b[38;5;167;01mException\u001b[39;00m:\n\u001b[0;32m--> 706\u001b[0m     \u001b[43monerror\u001b[49m\u001b[43m(\u001b[49m\u001b[43mos\u001b[49m\u001b[38;5;241;43m.\u001b[39;49m\u001b[43mlstat\u001b[49m\u001b[43m,\u001b[49m\u001b[43m \u001b[49m\u001b[43mpath\u001b[49m\u001b[43m,\u001b[49m\u001b[43m \u001b[49m\u001b[43msys\u001b[49m\u001b[38;5;241;43m.\u001b[39;49m\u001b[43mexc_info\u001b[49m\u001b[43m(\u001b[49m\u001b[43m)\u001b[49m\u001b[43m)\u001b[49m\n\u001b[1;32m    707\u001b[0m     \u001b[38;5;28;01mreturn\u001b[39;00m\n\u001b[1;32m    708\u001b[0m \u001b[38;5;28;01mtry\u001b[39;00m:\n",
      "File \u001b[0;32m~/miniconda/envs/xgpr/lib/python3.9/shutil.py:704\u001b[0m, in \u001b[0;36mrmtree\u001b[0;34m(path, ignore_errors, onerror)\u001b[0m\n\u001b[1;32m    701\u001b[0m \u001b[38;5;66;03m# Note: To guard against symlink races, we use the standard\u001b[39;00m\n\u001b[1;32m    702\u001b[0m \u001b[38;5;66;03m# lstat()/open()/fstat() trick.\u001b[39;00m\n\u001b[1;32m    703\u001b[0m \u001b[38;5;28;01mtry\u001b[39;00m:\n\u001b[0;32m--> 704\u001b[0m     orig_st \u001b[38;5;241m=\u001b[39m \u001b[43mos\u001b[49m\u001b[38;5;241;43m.\u001b[39;49m\u001b[43mlstat\u001b[49m\u001b[43m(\u001b[49m\u001b[43mpath\u001b[49m\u001b[43m)\u001b[49m\n\u001b[1;32m    705\u001b[0m \u001b[38;5;28;01mexcept\u001b[39;00m \u001b[38;5;167;01mException\u001b[39;00m:\n\u001b[1;32m    706\u001b[0m     onerror(os\u001b[38;5;241m.\u001b[39mlstat, path, sys\u001b[38;5;241m.\u001b[39mexc_info())\n",
      "\u001b[0;31mFileNotFoundError\u001b[0m: [Errno 2] No such file or directory: '/scratch/temp'"
     ]
    }
   ],
   "source": [
    "#Don't forget to remove the temporary files created in scratch!!\n",
    "shutil.rmtree(\"/scratch/temp\")"
   ]
  },
  {
   "cell_type": "code",
   "execution_count": 53,
   "id": "818097fa",
   "metadata": {},
   "outputs": [
    {
     "data": {
      "text/plain": [
       "623"
      ]
     },
     "execution_count": 53,
     "metadata": {},
     "output_type": "execute_result"
    }
   ],
   "source": [
    "(mod.coef_ < 1e-1).sum()"
   ]
  },
  {
   "cell_type": "code",
   "execution_count": 64,
   "id": "78226ab8",
   "metadata": {},
   "outputs": [],
   "source": [
    "idx = np.where(np.abs(mod.coef_) > 1e-12)[0].tolist()"
   ]
  },
  {
   "cell_type": "code",
   "execution_count": 65,
   "id": "e0f8e612",
   "metadata": {},
   "outputs": [
    {
     "name": "stdout",
     "output_type": "stream",
     "text": [
      "[1, 2, 4, 7, 9, 10, 11, 12, 13, 20, 21, 22, 23, 24, 26, 27, 29, 30, 31, 33, 36, 38, 39, 42, 45, 46, 48, 50, 51, 52, 53, 54, 57, 60, 61, 63, 64, 65, 66, 67, 68, 69, 71, 72, 73, 75, 81, 82, 83, 86, 87, 90, 93, 94, 95, 96, 99, 102, 106, 108, 109, 114, 116, 117, 118, 119, 123, 124, 125, 127, 128, 129, 130, 133, 134, 135, 136, 139, 140, 141, 142, 143, 145, 146, 147, 149, 150, 151, 153, 155, 156, 157, 159, 160, 162, 163, 164, 166, 168, 169, 171, 172, 173, 174, 175, 178, 179, 182, 183, 184, 185, 188, 192, 193, 196, 197, 198, 199, 200, 202, 203, 204, 206, 207, 209, 211, 212, 214, 215, 216, 219, 220, 225, 226, 229, 230, 231, 232, 234, 235, 236, 238, 241, 242, 243, 244, 249, 250, 251, 256, 258, 259, 260, 262, 264, 267, 269, 271, 273, 274, 276, 277, 279, 280, 281, 286, 290, 292, 293, 294, 295, 297, 299, 303, 304, 306, 307, 309, 310, 311, 314, 315, 316, 317, 318, 320, 321, 323, 324, 325, 328, 329, 331, 332, 333, 334, 335, 337, 338, 339, 340, 342, 343, 344, 345, 349, 350, 353, 355, 356, 357, 359, 363, 364, 367, 369, 372, 373, 374, 377, 378, 379, 381, 382, 383, 385, 386, 387, 388, 389, 392, 395, 397, 398, 399, 402, 403, 405, 407, 408, 412, 413, 415, 416, 421, 423, 424, 425, 427, 429, 431, 432, 433, 434, 435, 437, 438, 439, 441, 442, 444, 446, 447, 449, 450, 452, 455, 456, 458, 459, 460, 461, 463, 464, 465, 466, 472, 477, 478, 480, 485, 488, 490, 491, 492, 493, 494, 495, 498, 499, 500, 501, 505, 506, 507, 508, 509, 510, 511, 512, 517, 520, 521, 522, 524, 525, 526, 528, 530, 533, 534, 535, 536, 538, 540, 542, 545, 547, 548, 549, 550, 551, 552, 553, 554, 556, 558, 559, 561, 564, 565, 566, 567, 568, 570, 571, 576, 577, 578, 579, 580, 581, 583, 584, 587, 589, 591, 592, 594, 598, 604, 605, 608, 610, 611, 613, 614, 617, 618, 619, 620, 622, 623, 625, 626, 627, 628, 629, 630, 633]\n"
     ]
    }
   ],
   "source": [
    "print(idx)"
   ]
  },
  {
   "cell_type": "code",
   "execution_count": null,
   "id": "51695f92",
   "metadata": {},
   "outputs": [],
   "source": []
  }
 ],
 "metadata": {
  "kernelspec": {
   "display_name": "Python 3 (ipykernel)",
   "language": "python",
   "name": "python3"
  },
  "language_info": {
   "codemirror_mode": {
    "name": "ipython",
    "version": 3
   },
   "file_extension": ".py",
   "mimetype": "text/x-python",
   "name": "python",
   "nbconvert_exporter": "python",
   "pygments_lexer": "ipython3",
   "version": "3.9.0"
  }
 },
 "nbformat": 4,
 "nbformat_minor": 5
}
